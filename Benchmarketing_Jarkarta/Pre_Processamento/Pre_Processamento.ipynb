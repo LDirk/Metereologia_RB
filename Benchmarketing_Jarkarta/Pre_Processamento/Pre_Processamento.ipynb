{
  "nbformat": 4,
  "nbformat_minor": 0,
  "metadata": {
    "colab": {
      "provenance": []
    },
    "kernelspec": {
      "name": "python3",
      "display_name": "Python 3"
    },
    "language_info": {
      "name": "python"
    }
  },
  "cells": [
    {
      "cell_type": "code",
      "execution_count": null,
      "metadata": {
        "id": "9IRd4JX9xXIC"
      },
      "outputs": [],
      "source": [
        "#pip install bnlearn"
      ]
    },
    {
      "cell_type": "code",
      "source": [
        "import pandas as pd\n",
        "import matplotlib.pyplot as plt\n",
        "from sklearn.cluster import KMeans\n",
        "import numpy as np\n",
        "import bnlearn as bn\n"
      ],
      "metadata": {
        "id": "DnKj3qJExksc"
      },
      "execution_count": null,
      "outputs": []
    },
    {
      "cell_type": "code",
      "source": [
        "caminho_arquivo = '/content/Dados_Jakarta_2020_13_maio_21_final.csv'\n",
        "\n",
        "df = pd.read_csv(caminho_arquivo)\n",
        "\n",
        "df['DATA'] = df['system:index'].apply(lambda x: f\"{x[:4]}-{x[4:6]}-{x[6:8]} {x[8:10]}:00:00\")\n",
        "\n",
        "# Convertendo a nova coluna para datetime\n",
        "df['DATA'] = pd.to_datetime(df['DATA'], format='%Y-%m-%d %H:%M:%S')\n",
        "\n",
        "df = df.drop(['system:index', '.geo'], axis=1)\n"
      ],
      "metadata": {
        "id": "C2NJC_KxxddL"
      },
      "execution_count": null,
      "outputs": []
    },
    {
      "cell_type": "code",
      "source": [
        "\n",
        "plt.hist(df['precipitation'], bins=30, edgecolor='black')  # bins define o número de intervalos\n"
      ],
      "metadata": {
        "colab": {
          "base_uri": "https://localhost:8080/",
          "height": 656
        },
        "id": "spo6PDqbx4X_",
        "outputId": "803b4be9-b3d2-474d-e536-dcecbb222fea"
      },
      "execution_count": null,
      "outputs": [
        {
          "output_type": "execute_result",
          "data": {
            "text/plain": [
              "(array([1.327e+03, 1.330e+02, 1.160e+02, 8.600e+01, 6.900e+01, 4.300e+01,\n",
              "        4.400e+01, 3.400e+01, 2.900e+01, 2.400e+01, 2.000e+01, 2.200e+01,\n",
              "        1.100e+01, 9.000e+00, 7.000e+00, 2.000e+00, 4.000e+00, 2.000e+00,\n",
              "        1.000e+00, 1.000e+00, 0.000e+00, 0.000e+00, 0.000e+00, 0.000e+00,\n",
              "        0.000e+00, 0.000e+00, 0.000e+00, 0.000e+00, 0.000e+00, 1.000e+00]),\n",
              " array([ 0.        ,  0.80333335,  1.60666669,  2.41000004,  3.21333338,\n",
              "         4.01666673,  4.82000008,  5.62333342,  6.42666677,  7.23000011,\n",
              "         8.03333346,  8.83666681,  9.64000015, 10.4433335 , 11.24666684,\n",
              "        12.05000019, 12.85333354, 13.65666688, 14.46000023, 15.26333357,\n",
              "        16.06666692, 16.87000027, 17.67333361, 18.47666696, 19.28000031,\n",
              "        20.08333365, 20.886667  , 21.69000034, 22.49333369, 23.29666704,\n",
              "        24.10000038]),\n",
              " <BarContainer object of 30 artists>)"
            ]
          },
          "metadata": {},
          "execution_count": 38
        },
        {
          "output_type": "display_data",
          "data": {
            "text/plain": [
              "<Figure size 640x480 with 1 Axes>"
            ],
            "image/png": "[encoded data removed]"
          },
          "metadata": {}
        }
      ]
    },
    {
      "cell_type": "code",
      "source": [
        "# Definir a variável para aplicar o K-Means\n",
        "X = df[['temperature']]\n",
        "\n",
        "# Definir o número de clusters (grupos) que você deseja\n",
        "n_clusters = 2  # Exemplo: 3 grupos para 'Low', 'Moderate', 'High'\n",
        "\n",
        "# Aplicar o K-Means\n",
        "kmeans = KMeans(n_clusters=n_clusters, random_state=0)\n",
        "df['temperature_cluster'] = kmeans.fit_predict(X)\n",
        "\n",
        "# Obter os centróides dos clusters\n",
        "centroids = kmeans.cluster_centers_\n",
        "print(\"Centróides de 'temperature':\", centroids)\n",
        "\n",
        "# Atribuir rótulos aos clusters de temperatura com base nos centróides\n",
        "df['temperature_cluster_label'] = df['temperature_cluster'].map({\n",
        "    0: 'Low',      # Cluster com centróide 301.41\n",
        "    1: 'High'      # Cluster com centróide 303.54\n",
        "})\n"
      ],
      "metadata": {
        "colab": {
          "base_uri": "https://localhost:8080/"
        },
        "id": "6lBxohXYyFj3",
        "outputId": "0de03e86-c4f4-4db5-bc3b-f6141dc78f47"
      },
      "execution_count": null,
      "outputs": [
        {
          "output_type": "stream",
          "name": "stdout",
          "text": [
            "Centróides de 'temperature': [[303.44143476]\n",
            " [301.71427482]]\n"
          ]
        }
      ]
    },
    {
      "cell_type": "code",
      "source": [
        "# Definir a variável para aplicar o K-Means\n",
        "X = df[['humidity']]\n",
        "\n",
        "# Definir o número de clusters (grupos) que você deseja\n",
        "n_clusters = 3  # Exemplo: 3 grupos para 'Low', 'Moderate', 'High'\n",
        "\n",
        "# Aplicar o K-Means\n",
        "kmeans = KMeans(n_clusters=n_clusters, random_state=0)\n",
        "df['humidity_cluster'] = kmeans.fit_predict(X)\n",
        "\n",
        "# Obter os centróides dos clusters\n",
        "centroids = kmeans.cluster_centers_\n",
        "print(\"Centróides de 'humidity':\", centroids)\n",
        "\n",
        "# Atribuir rótulos aos clusters de temperatura com base nos centróides\n",
        "df['humidity_cluster_label'] = df['humidity_cluster'].map({\n",
        "    0: 'Low',      # Cluster com centróide 301.41\n",
        "    2: 'Moderate', # Cluster com centróide 302.44\n",
        "    1: 'High'      # Cluster com centróide 303.54\n",
        "})"
      ],
      "metadata": {
        "colab": {
          "base_uri": "https://localhost:8080/"
        },
        "id": "pXTSEPnhyKPv",
        "outputId": "bc525d09-035d-4815-af71-95f047fd9ac1"
      },
      "execution_count": null,
      "outputs": [
        {
          "output_type": "stream",
          "name": "stdout",
          "text": [
            "Centróides de 'humidity': [[42.02398082]\n",
            " [54.18769552]\n",
            " [62.69293924]]\n"
          ]
        }
      ]
    },
    {
      "cell_type": "code",
      "source": [
        "# Definir a variável para aplicar o K-Means\n",
        "X = df[['pressure']]\n",
        "\n",
        "# Definir o número de clusters (grupos) que você deseja\n",
        "n_clusters = 3  # Exemplo: 3 grupos para 'Low', 'Moderate', 'High'\n",
        "\n",
        "# Aplicar o K-Means\n",
        "kmeans = KMeans(n_clusters=n_clusters, random_state=0)\n",
        "df['pressure_cluster'] = kmeans.fit_predict(X)\n",
        "\n",
        "# Obter os centróides dos clusters\n",
        "centroids = kmeans.cluster_centers_\n",
        "print(\"Centróides de 'pressure':\", centroids)\n",
        "\n",
        "# Atribuir rótulos aos clusters de temperatura com base nos centróides\n",
        "df['pressure_cluster_label'] = df['pressure_cluster'].map({\n",
        "    1: 'Moderate',      # Cluster com centróide 100780.13\n",
        "    0: 'low', # Cluster com centróide 100970.50\n",
        "    2: 'High'      # Cluster com centróide 101148.99\n",
        "    })\n"
      ],
      "metadata": {
        "colab": {
          "base_uri": "https://localhost:8080/"
        },
        "id": "gjU4sGpUyQfY",
        "outputId": "9906dc5c-34b8-4317-cb51-c57304ac0cef"
      },
      "execution_count": null,
      "outputs": [
        {
          "output_type": "stream",
          "name": "stdout",
          "text": [
            "Centróides de 'pressure': [[100757.73469447]\n",
            " [100969.98133022]\n",
            " [101162.74635858]]\n"
          ]
        }
      ]
    },
    {
      "cell_type": "code",
      "source": [
        "# Definir a variável para aplicar o K-Means\n",
        "X = df[['cloudCover']]\n",
        "\n",
        "# Definir o número de clusters (grupos) que você deseja\n",
        "n_clusters = 4  # Exemplo: 3 grupos para 'Low', 'Moderate', 'High'\n",
        "\n",
        "# Aplicar o K-Means\n",
        "kmeans = KMeans(n_clusters=n_clusters, random_state=0)\n",
        "df['cloudCover_cluster'] = kmeans.fit_predict(X)\n",
        "\n",
        "# Obter os centróides dos clusters\n",
        "centroids = kmeans.cluster_centers_\n",
        "print(\"Centróides de 'pressure':\", centroids)\n",
        "\n",
        "# Atribuir rótulos aos clusters de temperatura com base nos centróides\n",
        "df['cloudCover_label'] = df['cloudCover_cluster'].map({\n",
        "      0: 'Very Low',\n",
        "      1: 'Low',\n",
        "      3: 'High',\n",
        "      2: 'Very High'})\n"
      ],
      "metadata": {
        "colab": {
          "base_uri": "https://localhost:8080/"
        },
        "id": "cxYVHkPAyTjP",
        "outputId": "49679376-1d4f-4028-dd50-acef599835ea"
      },
      "execution_count": null,
      "outputs": [
        {
          "output_type": "stream",
          "name": "stdout",
          "text": [
            "Centróides de 'pressure': [[0.03002759]\n",
            " [0.37475862]\n",
            " [4.0999999 ]\n",
            " [1.21370371]]\n"
          ]
        }
      ]
    },
    {
      "cell_type": "code",
      "source": [
        "df['precipitation_cluster'] = np.where(df['precipitation'] > 0, 1, 0)\n"
      ],
      "metadata": {
        "id": "neqQDvfWybRx"
      },
      "execution_count": null,
      "outputs": []
    },
    {
      "cell_type": "code",
      "source": [
        "df.head()\n"
      ],
      "metadata": {
        "colab": {
          "base_uri": "https://localhost:8080/",
          "height": 206
        },
        "id": "VydeupsOyWf3",
        "outputId": "ef5bc7fa-d8e2-48e3-e9ba-f1f180602763"
      },
      "execution_count": null,
      "outputs": [
        {
          "output_type": "execute_result",
          "data": {
            "text/plain": [
              "   cloudCover        date  humidity  precipitation       pressure  \\\n",
              "0        1.36  2020-01-01      66.0           12.0  101352.859375   \n",
              "1        0.53  2020-01-01      61.0            0.8  101108.703125   \n",
              "2        0.38  2020-01-01      69.0            1.8  101434.226562   \n",
              "3        0.36  2020-01-01      70.0            3.7  101218.632812   \n",
              "4        0.23  2020-01-02      65.0            5.9  101402.132812   \n",
              "\n",
              "   temperature                DATA  temperature_cluster  \\\n",
              "0   301.704010 2020-01-01 00:00:00                    1   \n",
              "1   301.878998 2020-01-01 06:00:00                    1   \n",
              "2   301.585999 2020-01-01 12:00:00                    1   \n",
              "3   301.494995 2020-01-01 18:00:00                    1   \n",
              "4   302.322998 2020-01-02 00:00:00                    1   \n",
              "\n",
              "  temperature_cluster_label  humidity_cluster humidity_cluster_label  \\\n",
              "0                      High                 2               Moderate   \n",
              "1                      High                 2               Moderate   \n",
              "2                      High                 2               Moderate   \n",
              "3                      High                 2               Moderate   \n",
              "4                      High                 2               Moderate   \n",
              "\n",
              "   pressure_cluster pressure_cluster_label  cloudCover_cluster  \\\n",
              "0                 2                   High                   3   \n",
              "1                 2                   High                   1   \n",
              "2                 2                   High                   1   \n",
              "3                 2                   High                   1   \n",
              "4                 2                   High                   1   \n",
              "\n",
              "  cloudCover_label  precipitation_cluster  \n",
              "0             High                      1  \n",
              "1              Low                      1  \n",
              "2              Low                      1  \n",
              "3              Low                      1  \n",
              "4              Low                      1  "
            ],
            "text/html": [
              "\n",
              "  <div id=\"df-3d5f4c6c-fbef-4fcf-a70e-af36643ec4da\" class=\"colab-df-container\">\n",
              "    <div>\n",
              "<style scoped>\n",
              "    .dataframe tbody tr th:only-of-type {\n",
              "        vertical-align: middle;\n",
              "    }\n",
              "\n",
              "    .dataframe tbody tr th {\n",
              "        vertical-align: top;\n",
              "    }\n",
              "\n",
              "    .dataframe thead th {\n",
              "        text-align: right;\n",
              "    }\n",
              "</style>\n",
              "<table border=\"1\" class=\"dataframe\">\n",
              "  <thead>\n",
              "    <tr style=\"text-align: right;\">\n",
              "      <th></th>\n",
              "      <th>cloudCover</th>\n",
              "      <th>date</th>\n",
              "      <th>humidity</th>\n",
              "      <th>precipitation</th>\n",
              "      <th>pressure</th>\n",
              "      <th>temperature</th>\n",
              "      <th>DATA</th>\n",
              "      <th>temperature_cluster</th>\n",
              "      <th>temperature_cluster_label</th>\n",
              "      <th>humidity_cluster</th>\n",
              "      <th>humidity_cluster_label</th>\n",
              "      <th>pressure_cluster</th>\n",
              "      <th>pressure_cluster_label</th>\n",
              "      <th>cloudCover_cluster</th>\n",
              "      <th>cloudCover_label</th>\n",
              "      <th>precipitation_cluster</th>\n",
              "    </tr>\n",
              "  </thead>\n",
              "  <tbody>\n",
              "    <tr>\n",
              "      <th>0</th>\n",
              "      <td>1.36</td>\n",
              "      <td>2020-01-01</td>\n",
              "      <td>66.0</td>\n",
              "      <td>12.0</td>\n",
              "      <td>101352.859375</td>\n",
              "      <td>301.704010</td>\n",
              "      <td>2020-01-01 00:00:00</td>\n",
              "      <td>1</td>\n",
              "      <td>High</td>\n",
              "      <td>2</td>\n",
              "      <td>Moderate</td>\n",
              "      <td>2</td>\n",
              "      <td>High</td>\n",
              "      <td>3</td>\n",
              "      <td>High</td>\n",
              "      <td>1</td>\n",
              "    </tr>\n",
              "    <tr>\n",
              "      <th>1</th>\n",
              "      <td>0.53</td>\n",
              "      <td>2020-01-01</td>\n",
              "      <td>61.0</td>\n",
              "      <td>0.8</td>\n",
              "      <td>101108.703125</td>\n",
              "      <td>301.878998</td>\n",
              "      <td>2020-01-01 06:00:00</td>\n",
              "      <td>1</td>\n",
              "      <td>High</td>\n",
              "      <td>2</td>\n",
              "      <td>Moderate</td>\n",
              "      <td>2</td>\n",
              "      <td>High</td>\n",
              "      <td>1</td>\n",
              "      <td>Low</td>\n",
              "      <td>1</td>\n",
              "    </tr>\n",
              "    <tr>\n",
              "      <th>2</th>\n",
              "      <td>0.38</td>\n",
              "      <td>2020-01-01</td>\n",
              "      <td>69.0</td>\n",
              "      <td>1.8</td>\n",
              "      <td>101434.226562</td>\n",
              "      <td>301.585999</td>\n",
              "      <td>2020-01-01 12:00:00</td>\n",
              "      <td>1</td>\n",
              "      <td>High</td>\n",
              "      <td>2</td>\n",
              "      <td>Moderate</td>\n",
              "      <td>2</td>\n",
              "      <td>High</td>\n",
              "      <td>1</td>\n",
              "      <td>Low</td>\n",
              "      <td>1</td>\n",
              "    </tr>\n",
              "    <tr>\n",
              "      <th>3</th>\n",
              "      <td>0.36</td>\n",
              "      <td>2020-01-01</td>\n",
              "      <td>70.0</td>\n",
              "      <td>3.7</td>\n",
              "      <td>101218.632812</td>\n",
              "      <td>301.494995</td>\n",
              "      <td>2020-01-01 18:00:00</td>\n",
              "      <td>1</td>\n",
              "      <td>High</td>\n",
              "      <td>2</td>\n",
              "      <td>Moderate</td>\n",
              "      <td>2</td>\n",
              "      <td>High</td>\n",
              "      <td>1</td>\n",
              "      <td>Low</td>\n",
              "      <td>1</td>\n",
              "    </tr>\n",
              "    <tr>\n",
              "      <th>4</th>\n",
              "      <td>0.23</td>\n",
              "      <td>2020-01-02</td>\n",
              "      <td>65.0</td>\n",
              "      <td>5.9</td>\n",
              "      <td>101402.132812</td>\n",
              "      <td>302.322998</td>\n",
              "      <td>2020-01-02 00:00:00</td>\n",
              "      <td>1</td>\n",
              "      <td>High</td>\n",
              "      <td>2</td>\n",
              "      <td>Moderate</td>\n",
              "      <td>2</td>\n",
              "      <td>High</td>\n",
              "      <td>1</td>\n",
              "      <td>Low</td>\n",
              "      <td>1</td>\n",
              "    </tr>\n",
              "  </tbody>\n",
              "</table>\n",
              "</div>\n",
              "    <div class=\"colab-df-buttons\">\n",
              "\n",
              "  <div class=\"colab-df-container\">\n",
              "    <button class=\"colab-df-convert\" onclick=\"convertToInteractive('df-3d5f4c6c-fbef-4fcf-a70e-af36643ec4da')\"\n",
              "            title=\"Convert this dataframe to an interactive table.\"\n",
              "            style=\"display:none;\">\n",
              "\n",
              "  <svg xmlns=\"http://www.w3.org/2000/svg\" height=\"24px\" viewBox=\"0 -960 960 960\">\n",
              "    <path d=\"M120-120v-720h720v720H120Zm60-500h600v-160H180v160Zm220 220h160v-160H400v160Zm0 220h160v-160H400v160ZM180-400h160v-160H180v160Zm440 0h160v-160H620v160ZM180-180h160v-160H180v160Zm440 0h160v-160H620v160Z\"/>\n",
              "  </svg>\n",
              "    </button>\n",
              "\n",
              "  <style>\n",
              "    .colab-df-container {\n",
              "      display:flex;\n",
              "      gap: 12px;\n",
              "    }\n",
              "\n",
              "    .colab-df-convert {\n",
              "      background-color: #E8F0FE;\n",
              "      border: none;\n",
              "      border-radius: 50%;\n",
              "      cursor: pointer;\n",
              "      display: none;\n",
              "      fill: #1967D2;\n",
              "      height: 32px;\n",
              "      padding: 0 0 0 0;\n",
              "      width: 32px;\n",
              "    }\n",
              "\n",
              "    .colab-df-convert:hover {\n",
              "      background-color: #E2EBFA;\n",
              "      box-shadow: 0px 1px 2px rgba(60, 64, 67, 0.3), 0px 1px 3px 1px rgba(60, 64, 67, 0.15);\n",
              "      fill: #174EA6;\n",
              "    }\n",
              "\n",
              "    .colab-df-buttons div {\n",
              "      margin-bottom: 4px;\n",
              "    }\n",
              "\n",
              "    [theme=dark] .colab-df-convert {\n",
              "      background-color: #3B4455;\n",
              "      fill: #D2E3FC;\n",
              "    }\n",
              "\n",
              "    [theme=dark] .colab-df-convert:hover {\n",
              "      background-color: #434B5C;\n",
              "      box-shadow: 0px 1px 3px 1px rgba(0, 0, 0, 0.15);\n",
              "      filter: drop-shadow(0px 1px 2px rgba(0, 0, 0, 0.3));\n",
              "      fill: #FFFFFF;\n",
              "    }\n",
              "  </style>\n",
              "\n",
              "    <script>\n",
              "      const buttonEl =\n",
              "        document.querySelector('#df-3d5f4c6c-fbef-4fcf-a70e-af36643ec4da button.colab-df-convert');\n",
              "      buttonEl.style.display =\n",
              "        google.colab.kernel.accessAllowed ? 'block' : 'none';\n",
              "\n",
              "      async function convertToInteractive(key) {\n",
              "        const element = document.querySelector('#df-3d5f4c6c-fbef-4fcf-a70e-af36643ec4da');\n",
              "        const dataTable =\n",
              "          await google.colab.kernel.invokeFunction('convertToInteractive',\n",
              "                                                    [key], {});\n",
              "        if (!dataTable) return;\n",
              "\n",
              "        const docLinkHtml = 'Like what you see? Visit the ' +\n",
              "          '<a target=\"_blank\" href=https://colab.research.google.com/notebooks/data_table.ipynb>data table notebook</a>'\n",
              "          + ' to learn more about interactive tables.';\n",
              "        element.innerHTML = '';\n",
              "        dataTable['output_type'] = 'display_data';\n",
              "        await google.colab.output.renderOutput(dataTable, element);\n",
              "        const docLink = document.createElement('div');\n",
              "        docLink.innerHTML = docLinkHtml;\n",
              "        element.appendChild(docLink);\n",
              "      }\n",
              "    </script>\n",
              "  </div>\n",
              "\n",
              "\n",
              "<div id=\"df-2ab224fe-3497-4f0a-9282-01b94c175979\">\n",
              "  <button class=\"colab-df-quickchart\" onclick=\"quickchart('df-2ab224fe-3497-4f0a-9282-01b94c175979')\"\n",
              "            title=\"Suggest charts\"\n",
              "            style=\"display:none;\">\n",
              "\n",
              "<svg xmlns=\"http://www.w3.org/2000/svg\" height=\"24px\"viewBox=\"0 0 24 24\"\n",
              "     width=\"24px\">\n",
              "    <g>\n",
              "        <path d=\"M19 3H5c-1.1 0-2 .9-2 2v14c0 1.1.9 2 2 2h14c1.1 0 2-.9 2-2V5c0-1.1-.9-2-2-2zM9 17H7v-7h2v7zm4 0h-2V7h2v10zm4 0h-2v-4h2v4z\"/>\n",
              "    </g>\n",
              "</svg>\n",
              "  </button>\n",
              "\n",
              "<style>\n",
              "  .colab-df-quickchart {\n",
              "      --bg-color: #E8F0FE;\n",
              "      --fill-color: #1967D2;\n",
              "      --hover-bg-color: #E2EBFA;\n",
              "      --hover-fill-color: #174EA6;\n",
              "      --disabled-fill-color: #AAA;\n",
              "      --disabled-bg-color: #DDD;\n",
              "  }\n",
              "\n",
              "  [theme=dark] .colab-df-quickchart {\n",
              "      --bg-color: #3B4455;\n",
              "      --fill-color: #D2E3FC;\n",
              "      --hover-bg-color: #434B5C;\n",
              "      --hover-fill-color: #FFFFFF;\n",
              "      --disabled-bg-color: #3B4455;\n",
              "      --disabled-fill-color: #666;\n",
              "  }\n",
              "\n",
              "  .colab-df-quickchart {\n",
              "    background-color: var(--bg-color);\n",
              "    border: none;\n",
              "    border-radius: 50%;\n",
              "    cursor: pointer;\n",
              "    display: none;\n",
              "    fill: var(--fill-color);\n",
              "    height: 32px;\n",
              "    padding: 0;\n",
              "    width: 32px;\n",
              "  }\n",
              "\n",
              "  .colab-df-quickchart:hover {\n",
              "    background-color: var(--hover-bg-color);\n",
              "    box-shadow: 0 1px 2px rgba(60, 64, 67, 0.3), 0 1px 3px 1px rgba(60, 64, 67, 0.15);\n",
              "    fill: var(--button-hover-fill-color);\n",
              "  }\n",
              "\n",
              "  .colab-df-quickchart-complete:disabled,\n",
              "  .colab-df-quickchart-complete:disabled:hover {\n",
              "    background-color: var(--disabled-bg-color);\n",
              "    fill: var(--disabled-fill-color);\n",
              "    box-shadow: none;\n",
              "  }\n",
              "\n",
              "  .colab-df-spinner {\n",
              "    border: 2px solid var(--fill-color);\n",
              "    border-color: transparent;\n",
              "    border-bottom-color: var(--fill-color);\n",
              "    animation:\n",
              "      spin 1s steps(1) infinite;\n",
              "  }\n",
              "\n",
              "  @keyframes spin {\n",
              "    0% {\n",
              "      border-color: transparent;\n",
              "      border-bottom-color: var(--fill-color);\n",
              "      border-left-color: var(--fill-color);\n",
              "    }\n",
              "    20% {\n",
              "      border-color: transparent;\n",
              "      border-left-color: var(--fill-color);\n",
              "      border-top-color: var(--fill-color);\n",
              "    }\n",
              "    30% {\n",
              "      border-color: transparent;\n",
              "      border-left-color: var(--fill-color);\n",
              "      border-top-color: var(--fill-color);\n",
              "      border-right-color: var(--fill-color);\n",
              "    }\n",
              "    40% {\n",
              "      border-color: transparent;\n",
              "      border-right-color: var(--fill-color);\n",
              "      border-top-color: var(--fill-color);\n",
              "    }\n",
              "    60% {\n",
              "      border-color: transparent;\n",
              "      border-right-color: var(--fill-color);\n",
              "    }\n",
              "    80% {\n",
              "      border-color: transparent;\n",
              "      border-right-color: var(--fill-color);\n",
              "      border-bottom-color: var(--fill-color);\n",
              "    }\n",
              "    90% {\n",
              "      border-color: transparent;\n",
              "      border-bottom-color: var(--fill-color);\n",
              "    }\n",
              "  }\n",
              "</style>\n",
              "\n",
              "  <script>\n",
              "    async function quickchart(key) {\n",
              "      const quickchartButtonEl =\n",
              "        document.querySelector('#' + key + ' button');\n",
              "      quickchartButtonEl.disabled = true;  // To prevent multiple clicks.\n",
              "      quickchartButtonEl.classList.add('colab-df-spinner');\n",
              "      try {\n",
              "        const charts = await google.colab.kernel.invokeFunction(\n",
              "            'suggestCharts', [key], {});\n",
              "      } catch (error) {\n",
              "        console.error('Error during call to suggestCharts:', error);\n",
              "      }\n",
              "      quickchartButtonEl.classList.remove('colab-df-spinner');\n",
              "      quickchartButtonEl.classList.add('colab-df-quickchart-complete');\n",
              "    }\n",
              "    (() => {\n",
              "      let quickchartButtonEl =\n",
              "        document.querySelector('#df-2ab224fe-3497-4f0a-9282-01b94c175979 button');\n",
              "      quickchartButtonEl.style.display =\n",
              "        google.colab.kernel.accessAllowed ? 'block' : 'none';\n",
              "    })();\n",
              "  </script>\n",
              "</div>\n",
              "\n",
              "    </div>\n",
              "  </div>\n"
            ],
            "application/vnd.google.colaboratory.intrinsic+json": {
              "type": "dataframe",
              "variable_name": "df",
              "summary": "{\n  \"name\": \"df\",\n  \"rows\": 1985,\n  \"fields\": [\n    {\n      \"column\": \"cloudCover\",\n      \"properties\": {\n        \"dtype\": \"number\",\n        \"std\": 0.1971015872116256,\n        \"min\": 0.0,\n        \"max\": 4.099999904632568,\n        \"num_unique_values\": 91,\n        \"samples\": [\n          0.25,\n          0.1599999964237213,\n          0.8799999952316284\n        ],\n        \"semantic_type\": \"\",\n        \"description\": \"\"\n      }\n    },\n    {\n      \"column\": \"date\",\n      \"properties\": {\n        \"dtype\": \"object\",\n        \"num_unique_values\": 498,\n        \"samples\": [\n          \"2021-05-03\",\n          \"2020-03-14\",\n          \"2020-08-19\"\n        ],\n        \"semantic_type\": \"\",\n        \"description\": \"\"\n      }\n    },\n    {\n      \"column\": \"humidity\",\n      \"properties\": {\n        \"dtype\": \"number\",\n        \"std\": 8.027671694720809,\n        \"min\": 17.0,\n        \"max\": 71.0,\n        \"num_unique_values\": 48,\n        \"samples\": [\n          42.0,\n          33.0,\n          48.0\n        ],\n        \"semantic_type\": \"\",\n        \"description\": \"\"\n      }\n    },\n    {\n      \"column\": \"precipitation\",\n      \"properties\": {\n        \"dtype\": \"number\",\n        \"std\": 2.5794893169232394,\n        \"min\": 0.0,\n        \"max\": 24.100000381469727,\n        \"num_unique_values\": 424,\n        \"samples\": [\n          2.700000047683716,\n          0.6899999976158142,\n          8.739999771118164\n        ],\n        \"semantic_type\": \"\",\n        \"description\": \"\"\n      }\n    },\n    {\n      \"column\": \"pressure\",\n      \"properties\": {\n        \"dtype\": \"number\",\n        \"std\": 167.09929076600258,\n        \"min\": 100441.6015625,\n        \"max\": 101434.2265625,\n        \"num_unique_values\": 1899,\n        \"samples\": [\n          101102.109375,\n          101035.9609375,\n          100835.703125\n        ],\n        \"semantic_type\": \"\",\n        \"description\": \"\"\n      }\n    },\n    {\n      \"column\": \"temperature\",\n      \"properties\": {\n        \"dtype\": \"number\",\n        \"std\": 1.0206591034475445,\n        \"min\": 300.15399169921875,\n        \"max\": 305.3529968261719,\n        \"num_unique_values\": 1541,\n        \"samples\": [\n          301.9110107421875,\n          302.0260009765625,\n          301.9289855957031\n        ],\n        \"semantic_type\": \"\",\n        \"description\": \"\"\n      }\n    },\n    {\n      \"column\": \"DATA\",\n      \"properties\": {\n        \"dtype\": \"date\",\n        \"min\": \"2020-01-01 00:00:00\",\n        \"max\": \"2021-05-13 18:00:00\",\n        \"num_unique_values\": 1985,\n        \"samples\": [\n          \"2020-05-25 12:00:00\",\n          \"2021-03-06 12:00:00\",\n          \"2020-09-20 00:00:00\"\n        ],\n        \"semantic_type\": \"\",\n        \"description\": \"\"\n      }\n    },\n    {\n      \"column\": \"temperature_cluster\",\n      \"properties\": {\n        \"dtype\": \"int32\",\n        \"num_unique_values\": 2,\n        \"samples\": [\n          0,\n          1\n        ],\n        \"semantic_type\": \"\",\n        \"description\": \"\"\n      }\n    },\n    {\n      \"column\": \"temperature_cluster_label\",\n      \"properties\": {\n        \"dtype\": \"category\",\n        \"num_unique_values\": 2,\n        \"samples\": [\n          \"Low\",\n          \"High\"\n        ],\n        \"semantic_type\": \"\",\n        \"description\": \"\"\n      }\n    },\n    {\n      \"column\": \"humidity_cluster\",\n      \"properties\": {\n        \"dtype\": \"int32\",\n        \"num_unique_values\": 3,\n        \"samples\": [\n          2,\n          1\n        ],\n        \"semantic_type\": \"\",\n        \"description\": \"\"\n      }\n    },\n    {\n      \"column\": \"humidity_cluster_label\",\n      \"properties\": {\n        \"dtype\": \"category\",\n        \"num_unique_values\": 3,\n        \"samples\": [\n          \"Moderate\",\n          \"High\"\n        ],\n        \"semantic_type\": \"\",\n        \"description\": \"\"\n      }\n    },\n    {\n      \"column\": \"pressure_cluster\",\n      \"properties\": {\n        \"dtype\": \"int32\",\n        \"num_unique_values\": 3,\n        \"samples\": [\n          2,\n          1\n        ],\n        \"semantic_type\": \"\",\n        \"description\": \"\"\n      }\n    },\n    {\n      \"column\": \"pressure_cluster_label\",\n      \"properties\": {\n        \"dtype\": \"category\",\n        \"num_unique_values\": 3,\n        \"samples\": [\n          \"High\",\n          \"Moderate\"\n        ],\n        \"semantic_type\": \"\",\n        \"description\": \"\"\n      }\n    },\n    {\n      \"column\": \"cloudCover_cluster\",\n      \"properties\": {\n        \"dtype\": \"int32\",\n        \"num_unique_values\": 4,\n        \"samples\": [\n          1,\n          2\n        ],\n        \"semantic_type\": \"\",\n        \"description\": \"\"\n      }\n    },\n    {\n      \"column\": \"cloudCover_label\",\n      \"properties\": {\n        \"dtype\": \"category\",\n        \"num_unique_values\": 4,\n        \"samples\": [\n          \"Low\",\n          \"Very High\"\n        ],\n        \"semantic_type\": \"\",\n        \"description\": \"\"\n      }\n    },\n    {\n      \"column\": \"precipitation_cluster\",\n      \"properties\": {\n        \"dtype\": \"number\",\n        \"std\": 0,\n        \"min\": 0,\n        \"max\": 1,\n        \"num_unique_values\": 2,\n        \"samples\": [\n          0,\n          1\n        ],\n        \"semantic_type\": \"\",\n        \"description\": \"\"\n      }\n    }\n  ]\n}"
            }
          },
          "metadata": {},
          "execution_count": 44
        }
      ]
    },
    {
      "cell_type": "code",
      "source": [
        "df_preparado = df[['temperature_cluster', 'humidity_cluster', 'pressure_cluster', 'cloudCover_cluster', 'precipitation_cluster', 'DATA']]\n"
      ],
      "metadata": {
        "id": "5jgIoQIqygBA"
      },
      "execution_count": null,
      "outputs": []
    },
    {
      "cell_type": "code",
      "source": [
        "len(df_preparado)\n"
      ],
      "metadata": {
        "colab": {
          "base_uri": "https://localhost:8080/"
        },
        "id": "C7ZKzHVkykjx",
        "outputId": "1b7229ac-8d9e-4d93-da86-992028745b4f"
      },
      "execution_count": null,
      "outputs": [
        {
          "output_type": "execute_result",
          "data": {
            "text/plain": [
              "1985"
            ]
          },
          "metadata": {},
          "execution_count": 46
        }
      ]
    },
    {
      "cell_type": "code",
      "source": [
        "df_preparado.to_csv('df_discretizado_por_k_kmeans_com_data')"
      ],
      "metadata": {
        "id": "13MjwaTNyzXa"
      },
      "execution_count": null,
      "outputs": []
    },
    {
      "cell_type": "code",
      "source": [
        "max"
      ],
      "metadata": {
        "colab": {
          "base_uri": "https://localhost:8080/"
        },
        "id": "pyw849jS2DXx",
        "outputId": "513778f8-4c59-4c6a-f2f9-17ccd885c3d5"
      },
      "execution_count": null,
      "outputs": [
        {
          "output_type": "execute_result",
          "data": {
            "text/plain": [
              "<function max>"
            ]
          },
          "metadata": {},
          "execution_count": 33
        }
      ]
    },
    {
      "cell_type": "code",
      "source": [
        "max"
      ],
      "metadata": {
        "colab": {
          "base_uri": "https://localhost:8080/"
        },
        "id": "G5nUrlzf2EAv",
        "outputId": "646c975f-fdbe-4ea8-b369-fbe56bcd0357"
      },
      "execution_count": null,
      "outputs": [
        {
          "output_type": "execute_result",
          "data": {
            "text/plain": [
              "<function max>"
            ]
          },
          "metadata": {},
          "execution_count": 34
        }
      ]
    },
    {
      "cell_type": "code",
      "source": [
        "max(df_preparado['DATA'])"
      ],
      "metadata": {
        "colab": {
          "base_uri": "https://localhost:8080/"
        },
        "id": "zub5lzFJ2E9_",
        "outputId": "b4dea492-feaa-4afa-9cf6-8781abc0ac13"
      },
      "execution_count": null,
      "outputs": [
        {
          "output_type": "execute_result",
          "data": {
            "text/plain": [
              "Timestamp('2021-05-12 18:00:00')"
            ]
          },
          "metadata": {},
          "execution_count": 35
        }
      ]
    }
  ]
}